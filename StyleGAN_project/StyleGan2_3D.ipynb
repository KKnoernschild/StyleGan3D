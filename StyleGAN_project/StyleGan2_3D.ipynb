{
  "nbformat": 4,
  "nbformat_minor": 0,
  "metadata": {
    "colab": {
      "name": "StyleGan2_3D.ipynb",
      "provenance": [],
      "toc_visible": true
    },
    "kernelspec": {
      "name": "python3",
      "display_name": "Python 3"
    }
  },
  "cells": [
    {
      "cell_type": "markdown",
      "metadata": {
        "id": "n_W3vaFHPq02",
        "colab_type": "text"
      },
      "source": [
        "# **STYLEGAN2 Implementation in 3D**\n",
        "\n",
        "IMPORTANT NOTE: this was done using colab pro and buying an extra 300 gigabytes of space (100 which was used in training/testing over 2 weeks)\n",
        "\n",
        "\n",
        "\n",
        "Going to start by mounting to google drive"
      ]
    },
    {
      "cell_type": "code",
      "metadata": {
        "id": "zI7T-Z_yOozI",
        "colab_type": "code",
        "outputId": "096cf86f-bb2e-42d6-e414-d2ec2efe68ef",
        "colab": {
          "base_uri": "https://localhost:8080/",
          "height": 34
        }
      },
      "source": [
        "from google.colab import drive\n",
        "drive.mount('/content/drive')"
      ],
      "execution_count": 1,
      "outputs": [
        {
          "output_type": "stream",
          "text": [
            "Drive already mounted at /content/drive; to attempt to forcibly remount, call drive.mount(\"/content/drive\", force_remount=True).\n"
          ],
          "name": "stdout"
        }
      ]
    },
    {
      "cell_type": "markdown",
      "metadata": {
        "id": "2gTE4a9Wi07f",
        "colab_type": "text"
      },
      "source": [
        "## **Download the repository**"
      ]
    },
    {
      "cell_type": "code",
      "metadata": {
        "id": "1ah_ZDZGi5SE",
        "colab_type": "code",
        "outputId": "163f1592-b5e9-469f-9cca-6999db665694",
        "colab": {
          "base_uri": "https://localhost:8080/",
          "height": 187
        }
      },
      "source": [
        "%cd /content/drive/My\\ Drive/\n",
        "%mkdir 3D_StyleGan\n",
        "%cd 3D_StyleGan\n",
        "!git clone https://github.com/KKnoernschild/StyleGan3D\n",
        "%cd StyleGan3D\n",
        "%cd StyleGAN_project\n"
      ],
      "execution_count": 2,
      "outputs": [
        {
          "output_type": "stream",
          "text": [
            "/content/drive/My Drive\n",
            "/content/drive/My Drive/3D_StyleGan\n",
            "Cloning into 'StyleGan3D'...\n",
            "remote: Enumerating objects: 95, done.\u001b[K\n",
            "remote: Counting objects: 100% (95/95), done.\u001b[K\n",
            "remote: Compressing objects: 100% (83/83), done.\u001b[K\n",
            "remote: Total 95 (delta 9), reused 92 (delta 9), pack-reused 0\u001b[K\n",
            "Unpacking objects: 100% (95/95), done.\n",
            "/content/drive/My Drive/3D_StyleGan/StyleGan3D\n",
            "/content/drive/My Drive/3D_StyleGan/StyleGan3D/StyleGAN_project\n"
          ],
          "name": "stdout"
        }
      ]
    },
    {
      "cell_type": "markdown",
      "metadata": {
        "id": "lQ_XCK49nmU8",
        "colab_type": "text"
      },
      "source": [
        "## **Set to tensorflow 1.0**\n",
        "\n",
        "also make sure pynrrd is installed correctly"
      ]
    },
    {
      "cell_type": "code",
      "metadata": {
        "id": "E7nlJwX2nlt-",
        "colab_type": "code",
        "outputId": "a4ff5d2f-e32c-4ea8-8a8d-6118a59ca95e",
        "colab": {
          "base_uri": "https://localhost:8080/",
          "height": 357
        }
      },
      "source": [
        "#clones into project folder and installs\n",
        "!git clone https://github.com/mhe/pynrrd.git\n",
        "%cd pynrrd\n",
        "%pip install .\n",
        "\n"
      ],
      "execution_count": 3,
      "outputs": [
        {
          "output_type": "stream",
          "text": [
            "Cloning into 'pynrrd'...\n",
            "remote: Enumerating objects: 44, done.\u001b[K\n",
            "remote: Counting objects:   2% (1/44)\u001b[K\rremote: Counting objects:   4% (2/44)\u001b[K\rremote: Counting objects:   6% (3/44)\u001b[K\rremote: Counting objects:   9% (4/44)\u001b[K\rremote: Counting objects:  11% (5/44)\u001b[K\rremote: Counting objects:  13% (6/44)\u001b[K\rremote: Counting objects:  15% (7/44)\u001b[K\rremote: Counting objects:  18% (8/44)\u001b[K\rremote: Counting objects:  20% (9/44)\u001b[K\rremote: Counting objects:  22% (10/44)\u001b[K\rremote: Counting objects:  25% (11/44)\u001b[K\rremote: Counting objects:  27% (12/44)\u001b[K\rremote: Counting objects:  29% (13/44)\u001b[K\rremote: Counting objects:  31% (14/44)\u001b[K\rremote: Counting objects:  34% (15/44)\u001b[K\rremote: Counting objects:  36% (16/44)\u001b[K\rremote: Counting objects:  38% (17/44)\u001b[K\rremote: Counting objects:  40% (18/44)\u001b[K\rremote: Counting objects:  43% (19/44)\u001b[K\rremote: Counting objects:  45% (20/44)\u001b[K\rremote: Counting objects:  47% (21/44)\u001b[K\rremote: Counting objects:  50% (22/44)\u001b[K\rremote: Counting objects:  52% (23/44)\u001b[K\rremote: Counting objects:  54% (24/44)\u001b[K\rremote: Counting objects:  56% (25/44)\u001b[K\rremote: Counting objects:  59% (26/44)\u001b[K\rremote: Counting objects:  61% (27/44)\u001b[K\rremote: Counting objects:  63% (28/44)\u001b[K\rremote: Counting objects:  65% (29/44)\u001b[K\rremote: Counting objects:  68% (30/44)\u001b[K\rremote: Counting objects:  70% (31/44)\u001b[K\rremote: Counting objects:  72% (32/44)\u001b[K\rremote: Counting objects:  75% (33/44)\u001b[K\rremote: Counting objects:  77% (34/44)\u001b[K\rremote: Counting objects:  79% (35/44)\u001b[K\rremote: Counting objects:  81% (36/44)\u001b[K\rremote: Counting objects:  84% (37/44)\u001b[K\rremote: Counting objects:  86% (38/44)\u001b[K\rremote: Counting objects:  88% (39/44)\u001b[K\rremote: Counting objects:  90% (40/44)\u001b[K\rremote: Counting objects:  93% (41/44)\u001b[K\rremote: Counting objects:  95% (42/44)\u001b[K\rremote: Counting objects:  97% (43/44)\u001b[K\rremote: Counting objects: 100% (44/44)\u001b[K\rremote: Counting objects: 100% (44/44), done.\u001b[K\n",
            "remote: Compressing objects: 100% (32/32), done.\u001b[K\n",
            "remote: Total 968 (delta 23), reused 21 (delta 10), pack-reused 924\u001b[K\n",
            "Receiving objects: 100% (968/968), 305.04 KiB | 2.31 MiB/s, done.\n",
            "Resolving deltas: 100% (573/573), done.\n",
            "/content/drive/My Drive/3D_StyleGan/StyleGan3D/StyleGAN_project/pynrrd\n",
            "Processing /content/drive/My Drive/3D_StyleGan/StyleGan3D/StyleGAN_project/pynrrd\n",
            "Requirement already satisfied: numpy>=1.11.1 in /usr/local/lib/python3.6/dist-packages (from pynrrd==0.4.2) (1.18.4)\n",
            "Building wheels for collected packages: pynrrd\n",
            "  Building wheel for pynrrd (setup.py) ... \u001b[?25l\u001b[?25hdone\n",
            "  Created wheel for pynrrd: filename=pynrrd-0.4.2-py2.py3-none-any.whl size=18547 sha256=7a48a2f7c7a99af748248759d6605357f0390d75daabd6ff4567299d19e8bf3b\n",
            "  Stored in directory: /tmp/pip-ephem-wheel-cache-3op4t64d/wheels/6b/f7/b4/7413c5f7a29ed6ba0d3762f37ce5dadd52d6eb5bdf7d895081\n",
            "Successfully built pynrrd\n",
            "Installing collected packages: pynrrd\n",
            "  Found existing installation: pynrrd 0.4.2\n",
            "    Uninstalling pynrrd-0.4.2:\n",
            "      Successfully uninstalled pynrrd-0.4.2\n",
            "Successfully installed pynrrd-0.4.2\n"
          ],
          "name": "stdout"
        }
      ]
    },
    {
      "cell_type": "markdown",
      "metadata": {
        "id": "bPYmOfEfZtWr",
        "colab_type": "text"
      },
      "source": [
        "## **Turn Your Dataset into TFRECORD Files**\n",
        "\n",
        "call dataset_tool.py create_from_images\n",
        "\n",
        "this takes two arguments, an output folder and then the input image folder containing the list of nrrds that you want to be converted to tfrecord format"
      ]
    },
    {
      "cell_type": "code",
      "metadata": {
        "id": "FoVsgt1NQZ50",
        "colab_type": "code",
        "colab": {}
      },
      "source": [
        "#2nd argument is where to put your tfrecords files\n",
        "#3rd should point at your image dataset\n",
        "\n",
        "#EXAMPLE\n",
        "!python dataset_tool.py create_from_images ./datasets/3dINHALE32 /content/drive/My\\ Drive/NRRDINHALEIMS32"
      ],
      "execution_count": 0,
      "outputs": []
    },
    {
      "cell_type": "markdown",
      "metadata": {
        "id": "6LEjnB0KY-2i",
        "colab_type": "text"
      },
      "source": [
        "## **Train the system**\n",
        "\n",
        "--num-gpus is how many gpus you have to process (we used colab so 1 in this case)\n",
        "\n",
        "--data-dir is the file location of the dataset\n",
        "\n",
        "--config can be a-f - we used config-f for size expansion and a large network\n",
        "\n",
        "--dataset will be the directory you created with the tfrecord files from the cell above\n",
        "\n",
        "--mirror-argument can be set to true of false, which just flips images along the x axis to effectively double the training image size\n",
        "\n",
        "--metrics is set to None and does not work for our size images (something to explore in the future from sytlegan2)\n"
      ]
    },
    {
      "cell_type": "code",
      "metadata": {
        "id": "ozbcyvISY-bw",
        "colab_type": "code",
        "colab": {}
      },
      "source": [
        "# EXAMPLE\n",
        "!python run_training.py --num-gpus=1 --data-dir=./datasets --config=config-f --dataset=3dINHALE32 --mirror-augment=true --metrics=None"
      ],
      "execution_count": 0,
      "outputs": []
    },
    {
      "cell_type": "markdown",
      "metadata": {
        "id": "A0HojrgKaLED",
        "colab_type": "text"
      },
      "source": [
        "you can then let this run for as long as google colab considers you not to be idle (10-19 hours in our experience)\n",
        "\n",
        "Network Snapshots will be saved under the \\results folder with a unique ID every time this line of code is ran. If a previous pkl network file is found, it will continue training on that."
      ]
    },
    {
      "cell_type": "markdown",
      "metadata": {
        "id": "iu4zHxuGa6Ff",
        "colab_type": "text"
      },
      "source": [
        "## **Testing the trained newtork**\n",
        "\n",
        "Once you feel like the network has been training for the correct amount of time, or you want to see what the results are visually to compare early epochs to later epochs, use run_generator.py generate-images\n",
        "\n",
        "this takes \n",
        "\n",
        "--network : location of the pkl network file to generate images from\n",
        "\n",
        "--seeds : seeds that you want to create images from. use commas to separate if you want individual seeds (1,2,3) or a dash to create an inclusive list of seeeds to generate images from (1-10)\n",
        "\n",
        "--truncation-psi : this can be set anywhere from 0 to 1. 0-0.5 create 'real' images, and 0.5-1.0 tends to create more strange/maybe not quite so realisic images. 0.7 was used in our testing as a happy medium\n"
      ]
    },
    {
      "cell_type": "code",
      "metadata": {
        "id": "5mC_uU6waKw8",
        "colab_type": "code",
        "colab": {}
      },
      "source": [
        "# EXAMPLE\n",
        "!python run_generator.py generate-images --network=/content/drive/My\\ Drive/Stylegan2-colab-fresh/stylegan2/results/00039-stylegan2-3dINHALE32-1gpu-config-f/network-snapshot-024715.pkl --seeds=250-260 --truncation-psi=0.7"
      ],
      "execution_count": 0,
      "outputs": []
    }
  ]
}